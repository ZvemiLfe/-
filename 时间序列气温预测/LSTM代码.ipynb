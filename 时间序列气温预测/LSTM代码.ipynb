{
 "cells": [
  {
   "cell_type": "code",
   "execution_count": 1,
   "metadata": {},
   "outputs": [
    {
     "name": "stderr",
     "output_type": "stream",
     "text": [
      "C:\\Users\\hp\\anaconda3\\lib\\site-packages\\numpy\\_distributor_init.py:32: UserWarning: loaded more than 1 DLL from .libs:\n",
      "C:\\Users\\hp\\anaconda3\\lib\\site-packages\\numpy\\.libs\\libopenblas.4SP5SUA7CBGXUEOC35YP2ASOICYYEQZZ.gfortran-win_amd64.dll\n",
      "C:\\Users\\hp\\anaconda3\\lib\\site-packages\\numpy\\.libs\\libopenblas.XWYDX2IKJW2NMTWSFYNGFUWKQU3LYTCZ.gfortran-win_amd64.dll\n",
      "  stacklevel=1)\n"
     ]
    },
    {
     "data": {
      "text/html": [
       "<div>\n",
       "<style scoped>\n",
       "    .dataframe tbody tr th:only-of-type {\n",
       "        vertical-align: middle;\n",
       "    }\n",
       "\n",
       "    .dataframe tbody tr th {\n",
       "        vertical-align: top;\n",
       "    }\n",
       "\n",
       "    .dataframe thead th {\n",
       "        text-align: right;\n",
       "    }\n",
       "</style>\n",
       "<table border=\"1\" class=\"dataframe\">\n",
       "  <thead>\n",
       "    <tr style=\"text-align: right;\">\n",
       "      <th></th>\n",
       "      <th>全球平均温度</th>\n",
       "    </tr>\n",
       "    <tr>\n",
       "      <th>时间</th>\n",
       "      <th></th>\n",
       "    </tr>\n",
       "  </thead>\n",
       "  <tbody>\n",
       "    <tr>\n",
       "      <th>1880</th>\n",
       "      <td>10.71444</td>\n",
       "    </tr>\n",
       "    <tr>\n",
       "      <th>1881</th>\n",
       "      <td>10.65444</td>\n",
       "    </tr>\n",
       "    <tr>\n",
       "      <th>1882</th>\n",
       "      <td>10.71444</td>\n",
       "    </tr>\n",
       "    <tr>\n",
       "      <th>1883</th>\n",
       "      <td>10.72444</td>\n",
       "    </tr>\n",
       "    <tr>\n",
       "      <th>1884</th>\n",
       "      <td>10.67444</td>\n",
       "    </tr>\n",
       "    <tr>\n",
       "      <th>...</th>\n",
       "      <td>...</td>\n",
       "    </tr>\n",
       "    <tr>\n",
       "      <th>2018</th>\n",
       "      <td>11.86444</td>\n",
       "    </tr>\n",
       "    <tr>\n",
       "      <th>2019</th>\n",
       "      <td>11.88444</td>\n",
       "    </tr>\n",
       "    <tr>\n",
       "      <th>2020</th>\n",
       "      <td>11.76444</td>\n",
       "    </tr>\n",
       "    <tr>\n",
       "      <th>2021</th>\n",
       "      <td>11.82444</td>\n",
       "    </tr>\n",
       "    <tr>\n",
       "      <th>2022</th>\n",
       "      <td>11.83444</td>\n",
       "    </tr>\n",
       "  </tbody>\n",
       "</table>\n",
       "<p>143 rows × 1 columns</p>\n",
       "</div>"
      ],
      "text/plain": [
       "        全球平均温度\n",
       "时间            \n",
       "1880  10.71444\n",
       "1881  10.65444\n",
       "1882  10.71444\n",
       "1883  10.72444\n",
       "1884  10.67444\n",
       "...        ...\n",
       "2018  11.86444\n",
       "2019  11.88444\n",
       "2020  11.76444\n",
       "2021  11.82444\n",
       "2022  11.83444\n",
       "\n",
       "[143 rows x 1 columns]"
      ]
     },
     "execution_count": 1,
     "metadata": {},
     "output_type": "execute_result"
    }
   ],
   "source": [
    "import pandas as pd\n",
    "from matplotlib import pyplot as plt\n",
    "plt.rcParams['font.sans-serif']=['SimHei']  # 用来正常显示中文标签  \n",
    "plt.rcParams['axes.unicode_minus']=False  # 用来正常显示负号\n",
    "\n",
    "\n",
    "data=pd.read_csv('golbal.csv')\n",
    "data=data.set_index('时间')\n",
    "data"
   ]
  },
  {
   "cell_type": "code",
   "execution_count": 2,
   "metadata": {},
   "outputs": [
    {
     "data": {
      "text/html": [
       "<div>\n",
       "<style scoped>\n",
       "    .dataframe tbody tr th:only-of-type {\n",
       "        vertical-align: middle;\n",
       "    }\n",
       "\n",
       "    .dataframe tbody tr th {\n",
       "        vertical-align: top;\n",
       "    }\n",
       "\n",
       "    .dataframe thead th {\n",
       "        text-align: right;\n",
       "    }\n",
       "</style>\n",
       "<table border=\"1\" class=\"dataframe\">\n",
       "  <thead>\n",
       "    <tr style=\"text-align: right;\">\n",
       "      <th></th>\n",
       "      <th>actual_temp</th>\n",
       "      <th>forecast_temp</th>\n",
       "    </tr>\n",
       "    <tr>\n",
       "      <th>时间</th>\n",
       "      <th></th>\n",
       "      <th></th>\n",
       "    </tr>\n",
       "  </thead>\n",
       "  <tbody>\n",
       "    <tr>\n",
       "      <th>1880</th>\n",
       "      <td>10.71444</td>\n",
       "      <td>NaN</td>\n",
       "    </tr>\n",
       "    <tr>\n",
       "      <th>1881</th>\n",
       "      <td>10.65444</td>\n",
       "      <td>NaN</td>\n",
       "    </tr>\n",
       "    <tr>\n",
       "      <th>1882</th>\n",
       "      <td>10.71444</td>\n",
       "      <td>NaN</td>\n",
       "    </tr>\n",
       "    <tr>\n",
       "      <th>1883</th>\n",
       "      <td>10.72444</td>\n",
       "      <td>NaN</td>\n",
       "    </tr>\n",
       "    <tr>\n",
       "      <th>1884</th>\n",
       "      <td>10.67444</td>\n",
       "      <td>NaN</td>\n",
       "    </tr>\n",
       "    <tr>\n",
       "      <th>1885</th>\n",
       "      <td>10.75444</td>\n",
       "      <td>NaN</td>\n",
       "    </tr>\n",
       "    <tr>\n",
       "      <th>1886</th>\n",
       "      <td>10.63444</td>\n",
       "      <td>NaN</td>\n",
       "    </tr>\n",
       "    <tr>\n",
       "      <th>1887</th>\n",
       "      <td>10.62444</td>\n",
       "      <td>NaN</td>\n",
       "    </tr>\n",
       "    <tr>\n",
       "      <th>1888</th>\n",
       "      <td>10.98444</td>\n",
       "      <td>NaN</td>\n",
       "    </tr>\n",
       "    <tr>\n",
       "      <th>1889</th>\n",
       "      <td>10.70444</td>\n",
       "      <td>NaN</td>\n",
       "    </tr>\n",
       "    <tr>\n",
       "      <th>1890</th>\n",
       "      <td>10.59444</td>\n",
       "      <td>NaN</td>\n",
       "    </tr>\n",
       "    <tr>\n",
       "      <th>1891</th>\n",
       "      <td>10.65444</td>\n",
       "      <td>10.702773</td>\n",
       "    </tr>\n",
       "  </tbody>\n",
       "</table>\n",
       "</div>"
      ],
      "text/plain": [
       "      actual_temp  forecast_temp\n",
       "时间                              \n",
       "1880     10.71444            NaN\n",
       "1881     10.65444            NaN\n",
       "1882     10.71444            NaN\n",
       "1883     10.72444            NaN\n",
       "1884     10.67444            NaN\n",
       "1885     10.75444            NaN\n",
       "1886     10.63444            NaN\n",
       "1887     10.62444            NaN\n",
       "1888     10.98444            NaN\n",
       "1889     10.70444            NaN\n",
       "1890     10.59444            NaN\n",
       "1891     10.65444      10.702773"
      ]
     },
     "execution_count": 2,
     "metadata": {},
     "output_type": "execute_result"
    }
   ],
   "source": [
    "value=pd.DataFrame(data['全球平均温度'])\n",
    "\n",
    "temp_df=pd.concat([value,data['全球平均温度'].rolling(window=12).mean()],axis=1)\n",
    "\n",
    "temp_df.columns=['actual_temp','forecast_temp']\n",
    "temp_df.head(12)"
   ]
  },
  {
   "cell_type": "code",
   "execution_count": 3,
   "metadata": {},
   "outputs": [
    {
     "data": {
      "image/png": "[encoded data removed]",
      "text/plain": [
       "<Figure size 432x288 with 1 Axes>"
      ]
     },
     "execution_count": 3,
     "metadata": {},
     "output_type": "execute_result"
    },
    {
     "data": {
      "image/png": "[encoded data removed]",
      "text/plain": [
       "<Figure size 432x288 with 1 Axes>"
      ]
     },
     "metadata": {
      "needs_background": "light"
     },
     "output_type": "display_data"
    }
   ],
   "source": [
    "from statsmodels.graphics.tsaplots import plot_acf,plot_pacf\n",
    "\n",
    "plot_acf(data['全球平均温度'].dropna())"
   ]
  },
  {
   "cell_type": "code",
   "execution_count": 4,
   "metadata": {},
   "outputs": [
    {
     "data": {
      "image/png": "[encoded data removed]",
      "text/plain": [
       "<Figure size 432x288 with 1 Axes>"
      ]
     },
     "execution_count": 4,
     "metadata": {},
     "output_type": "execute_result"
    },
    {
     "data": {
      "image/png": "[encoded data removed]",
      "text/plain": [
       "<Figure size 432x288 with 1 Axes>"
      ]
     },
     "metadata": {
      "needs_background": "light"
     },
     "output_type": "display_data"
    }
   ],
   "source": [
    "plot_pacf(data['全球平均温度'].dropna())"
   ]
  },
  {
   "cell_type": "markdown",
   "metadata": {},
   "source": [
    "## ARIMA模型"
   ]
  },
  {
   "cell_type": "code",
   "execution_count": 5,
   "metadata": {},
   "outputs": [],
   "source": [
    "# training_data=data*0.8\n",
    "# test_data = data-training_data"
   ]
  },
  {
   "cell_type": "code",
   "execution_count": 6,
   "metadata": {},
   "outputs": [],
   "source": [
    "# from statsmodels.tsa.arima_model import ARIMA\n",
    "# arima = ARIMA(training_data,order=(2,1,3))"
   ]
  },
  {
   "cell_type": "code",
   "execution_count": 7,
   "metadata": {},
   "outputs": [],
   "source": [
    "#fit the model\n",
    "# model= arima.fit()"
   ]
  },
  {
   "cell_type": "code",
   "execution_count": 8,
   "metadata": {},
   "outputs": [],
   "source": [
    "#predictions \n",
    "# predictions=model.forecast(steps=len(test_data))[0]\n",
    "# predictions"
   ]
  },
  {
   "cell_type": "markdown",
   "metadata": {},
   "source": [
    "##  LSTM模型"
   ]
  },
  {
   "cell_type": "code",
   "execution_count": 9,
   "metadata": {},
   "outputs": [
    {
     "data": {
      "text/html": [
       "<div>\n",
       "<style scoped>\n",
       "    .dataframe tbody tr th:only-of-type {\n",
       "        vertical-align: middle;\n",
       "    }\n",
       "\n",
       "    .dataframe tbody tr th {\n",
       "        vertical-align: top;\n",
       "    }\n",
       "\n",
       "    .dataframe thead th {\n",
       "        text-align: right;\n",
       "    }\n",
       "</style>\n",
       "<table border=\"1\" class=\"dataframe\">\n",
       "  <thead>\n",
       "    <tr style=\"text-align: right;\">\n",
       "      <th></th>\n",
       "      <th>ds</th>\n",
       "      <th>y</th>\n",
       "    </tr>\n",
       "  </thead>\n",
       "  <tbody>\n",
       "    <tr>\n",
       "      <th>0</th>\n",
       "      <td>1880</td>\n",
       "      <td>10.71444</td>\n",
       "    </tr>\n",
       "    <tr>\n",
       "      <th>1</th>\n",
       "      <td>1881</td>\n",
       "      <td>10.65444</td>\n",
       "    </tr>\n",
       "    <tr>\n",
       "      <th>2</th>\n",
       "      <td>1882</td>\n",
       "      <td>10.71444</td>\n",
       "    </tr>\n",
       "    <tr>\n",
       "      <th>3</th>\n",
       "      <td>1883</td>\n",
       "      <td>10.72444</td>\n",
       "    </tr>\n",
       "    <tr>\n",
       "      <th>4</th>\n",
       "      <td>1884</td>\n",
       "      <td>10.67444</td>\n",
       "    </tr>\n",
       "  </tbody>\n",
       "</table>\n",
       "</div>"
      ],
      "text/plain": [
       "     ds         y\n",
       "0  1880  10.71444\n",
       "1  1881  10.65444\n",
       "2  1882  10.71444\n",
       "3  1883  10.72444\n",
       "4  1884  10.67444"
      ]
     },
     "execution_count": 9,
     "metadata": {},
     "output_type": "execute_result"
    }
   ],
   "source": [
    "df=pd.read_csv('golbal.csv')\n",
    "df.columns = ['ds', 'y']\n",
    "df.head()"
   ]
  },
  {
   "cell_type": "code",
   "execution_count": 10,
   "metadata": {},
   "outputs": [
    {
     "data": {
      "text/plain": [
       "(143,)"
      ]
     },
     "execution_count": 10,
     "metadata": {},
     "output_type": "execute_result"
    }
   ],
   "source": [
    "df4=df.reset_index()['y']\n",
    "df4.shape"
   ]
  },
  {
   "cell_type": "code",
   "execution_count": 11,
   "metadata": {},
   "outputs": [
    {
     "data": {
      "text/plain": [
       "0    10.71444\n",
       "1    10.65444\n",
       "2    10.71444\n",
       "3    10.72444\n",
       "4    10.67444\n",
       "Name: y, dtype: float64"
      ]
     },
     "execution_count": 11,
     "metadata": {},
     "output_type": "execute_result"
    }
   ],
   "source": [
    "df4.head()"
   ]
  },
  {
   "cell_type": "code",
   "execution_count": 12,
   "metadata": {},
   "outputs": [
    {
     "data": {
      "text/plain": [
       "[<matplotlib.lines.Line2D at 0x196dbbbaf08>]"
      ]
     },
     "execution_count": 12,
     "metadata": {},
     "output_type": "execute_result"
    },
    {
     "data": {
      "image/png": "[encoded data removed]",
      "text/plain": [
       "<Figure size 432x288 with 1 Axes>"
      ]
     },
     "metadata": {
      "needs_background": "light"
     },
     "output_type": "display_data"
    }
   ],
   "source": [
    "plt.plot(df4)"
   ]
  },
  {
   "cell_type": "code",
   "execution_count": 13,
   "metadata": {},
   "outputs": [],
   "source": [
    "from sklearn.preprocessing import MinMaxScaler\n",
    "import numpy as np\n",
    "scaler=MinMaxScaler(feature_range=(0,1))\n",
    "df4=scaler.fit_transform(np.array(df4).reshape(-1,1))"
   ]
  },
  {
   "cell_type": "code",
   "execution_count": 14,
   "metadata": {},
   "outputs": [],
   "source": [
    "training_size=int(len(df4)*0.80)\n",
    "test_size=len(df4)-training_size\n",
    "train_data, test_data= df4[0:training_size,:], df4[training_size:len(df4),:1]"
   ]
  },
  {
   "cell_type": "code",
   "execution_count": 15,
   "metadata": {},
   "outputs": [
    {
     "data": {
      "text/plain": [
       "(114, 29)"
      ]
     },
     "execution_count": 15,
     "metadata": {},
     "output_type": "execute_result"
    }
   ],
   "source": [
    "training_size, test_size"
   ]
  },
  {
   "cell_type": "code",
   "execution_count": 16,
   "metadata": {},
   "outputs": [],
   "source": [
    "def create_dataset(dataset, time_step=1):\n",
    "    X,y= [],[]\n",
    "    for i in range(len(dataset)-time_step-1):\n",
    "        a= dataset[i:(i+time_step),0] ###i= 0, 0,1,2,3\n",
    "        X.append(a)\n",
    "        y.append(dataset[i+ time_step,0])\n",
    "    return np.array(X), np.array(y)"
   ]
  },
  {
   "cell_type": "code",
   "execution_count": 17,
   "metadata": {},
   "outputs": [],
   "source": [
    "time_step=10\n",
    "X_train, y_train= create_dataset(train_data, time_step)\n",
    "X_test, y_test= create_dataset(test_data, time_step)"
   ]
  },
  {
   "cell_type": "code",
   "execution_count": 18,
   "metadata": {},
   "outputs": [
    {
     "name": "stdout",
     "output_type": "stream",
     "text": [
      "(103, 10)\n",
      "(103,)\n"
     ]
    },
    {
     "data": {
      "text/plain": [
       "(None, None)"
      ]
     },
     "execution_count": 18,
     "metadata": {},
     "output_type": "execute_result"
    }
   ],
   "source": [
    "print(X_train.shape), print(y_train.shape)"
   ]
  },
  {
   "cell_type": "code",
   "execution_count": 19,
   "metadata": {},
   "outputs": [],
   "source": [
    "X_train= X_train.reshape(X_train.shape[0], X_train.shape[1],1)\n",
    "X_test= X_test.reshape(X_test.shape[0], X_test.shape[1],1)"
   ]
  },
  {
   "cell_type": "code",
   "execution_count": 20,
   "metadata": {},
   "outputs": [],
   "source": [
    "from tensorflow.keras.models import Sequential\n",
    "from tensorflow.keras.layers import Dense\n",
    "from tensorflow.keras.layers import LSTM\n",
    "\n",
    "model= Sequential()\n",
    "model.add(LSTM(50, return_sequences= True, input_shape=(100,1)))\n",
    "model.add(LSTM(50, return_sequences=True))\n",
    "model.add(LSTM(50))\n",
    "model.add(Dense(1))\n",
    "model.compile(loss= 'mean_squared_error', optimizer= 'adam')"
   ]
  },
  {
   "cell_type": "code",
   "execution_count": 21,
   "metadata": {},
   "outputs": [
    {
     "name": "stdout",
     "output_type": "stream",
     "text": [
      "Model: \"sequential\"\n",
      "_________________________________________________________________\n",
      "Layer (type)                 Output Shape              Param #   \n",
      "=================================================================\n",
      "lstm (LSTM)                  (None, 100, 50)           10400     \n",
      "_________________________________________________________________\n",
      "lstm_1 (LSTM)                (None, 100, 50)           20200     \n",
      "_________________________________________________________________\n",
      "lstm_2 (LSTM)                (None, 50)                20200     \n",
      "_________________________________________________________________\n",
      "dense (Dense)                (None, 1)                 51        \n",
      "=================================================================\n",
      "Total params: 50,851\n",
      "Trainable params: 50,851\n",
      "Non-trainable params: 0\n",
      "_________________________________________________________________\n"
     ]
    }
   ],
   "source": [
    "model.summary()"
   ]
  },
  {
   "cell_type": "code",
   "execution_count": 22,
   "metadata": {},
   "outputs": [
    {
     "name": "stdout",
     "output_type": "stream",
     "text": [
      "Epoch 1/100\n",
      "WARNING:tensorflow:Model was constructed with shape (None, 100, 1) for input KerasTensor(type_spec=TensorSpec(shape=(None, 100, 1), dtype=tf.float32, name='lstm_input'), name='lstm_input', description=\"created by layer 'lstm_input'\"), but it was called on an input with incompatible shape (None, 10, 1).\n",
      "WARNING:tensorflow:Model was constructed with shape (None, 100, 1) for input KerasTensor(type_spec=TensorSpec(shape=(None, 100, 1), dtype=tf.float32, name='lstm_input'), name='lstm_input', description=\"created by layer 'lstm_input'\"), but it was called on an input with incompatible shape (None, 10, 1).\n",
      "1/2 [==============>...............] - ETA: 4s - loss: 0.1094WARNING:tensorflow:Model was constructed with shape (None, 100, 1) for input KerasTensor(type_spec=TensorSpec(shape=(None, 100, 1), dtype=tf.float32, name='lstm_input'), name='lstm_input', description=\"created by layer 'lstm_input'\"), but it was called on an input with incompatible shape (None, 10, 1).\n",
      "2/2 [==============================] - 5s 1s/step - loss: 0.1109 - val_loss: 0.5381\n",
      "Epoch 2/100\n",
      "2/2 [==============================] - 0s 33ms/step - loss: 0.0802 - val_loss: 0.4025\n",
      "Epoch 3/100\n",
      "2/2 [==============================] - 0s 34ms/step - loss: 0.0501 - val_loss: 0.2618\n",
      "Epoch 4/100\n",
      "2/2 [==============================] - 0s 34ms/step - loss: 0.0263 - val_loss: 0.1220\n",
      "Epoch 5/100\n",
      "2/2 [==============================] - 0s 33ms/step - loss: 0.0127 - val_loss: 0.0274\n",
      "Epoch 6/100\n",
      "2/2 [==============================] - 0s 34ms/step - loss: 0.0195 - val_loss: 0.0112\n",
      "Epoch 7/100\n",
      "2/2 [==============================] - 0s 30ms/step - loss: 0.0238 - val_loss: 0.0260\n",
      "Epoch 8/100\n",
      "2/2 [==============================] - 0s 31ms/step - loss: 0.0162 - val_loss: 0.0638\n",
      "Epoch 9/100\n",
      "2/2 [==============================] - 0s 32ms/step - loss: 0.0114 - val_loss: 0.1088\n",
      "Epoch 10/100\n",
      "2/2 [==============================] - 0s 30ms/step - loss: 0.0123 - val_loss: 0.1418\n",
      "Epoch 11/100\n",
      "2/2 [==============================] - 0s 32ms/step - loss: 0.0146 - val_loss: 0.1545\n",
      "Epoch 12/100\n",
      "2/2 [==============================] - 0s 33ms/step - loss: 0.0157 - val_loss: 0.1487\n",
      "Epoch 13/100\n",
      "2/2 [==============================] - 0s 32ms/step - loss: 0.0149 - val_loss: 0.1278\n",
      "Epoch 14/100\n",
      "2/2 [==============================] - 0s 30ms/step - loss: 0.0130 - val_loss: 0.0998\n",
      "Epoch 15/100\n",
      "2/2 [==============================] - 0s 34ms/step - loss: 0.0115 - val_loss: 0.0724\n",
      "Epoch 16/100\n",
      "2/2 [==============================] - 0s 35ms/step - loss: 0.0112 - val_loss: 0.0532\n",
      "Epoch 17/100\n",
      "2/2 [==============================] - 0s 33ms/step - loss: 0.0120 - val_loss: 0.0445\n",
      "Epoch 18/100\n",
      "2/2 [==============================] - 0s 31ms/step - loss: 0.0122 - val_loss: 0.0468\n",
      "Epoch 19/100\n",
      "2/2 [==============================] - 0s 35ms/step - loss: 0.0115 - val_loss: 0.0562\n",
      "Epoch 20/100\n",
      "2/2 [==============================] - 0s 33ms/step - loss: 0.0109 - val_loss: 0.0698\n",
      "Epoch 21/100\n",
      "2/2 [==============================] - 0s 35ms/step - loss: 0.0107 - val_loss: 0.0800\n",
      "Epoch 22/100\n",
      "2/2 [==============================] - 0s 31ms/step - loss: 0.0111 - val_loss: 0.0825\n",
      "Epoch 23/100\n",
      "2/2 [==============================] - 0s 33ms/step - loss: 0.0111 - val_loss: 0.0760\n",
      "Epoch 24/100\n",
      "2/2 [==============================] - 0s 33ms/step - loss: 0.0108 - val_loss: 0.0628\n",
      "Epoch 25/100\n",
      "2/2 [==============================] - 0s 32ms/step - loss: 0.0103 - val_loss: 0.0487\n",
      "Epoch 26/100\n",
      "2/2 [==============================] - 0s 31ms/step - loss: 0.0101 - val_loss: 0.0378\n",
      "Epoch 27/100\n",
      "2/2 [==============================] - 0s 31ms/step - loss: 0.0104 - val_loss: 0.0316\n",
      "Epoch 28/100\n",
      "2/2 [==============================] - 0s 32ms/step - loss: 0.0104 - val_loss: 0.0324\n",
      "Epoch 29/100\n",
      "2/2 [==============================] - 0s 33ms/step - loss: 0.0101 - val_loss: 0.0364\n",
      "Epoch 30/100\n",
      "2/2 [==============================] - 0s 33ms/step - loss: 0.0098 - val_loss: 0.0394\n",
      "Epoch 31/100\n",
      "2/2 [==============================] - 0s 30ms/step - loss: 0.0099 - val_loss: 0.0411\n",
      "Epoch 32/100\n",
      "2/2 [==============================] - 0s 32ms/step - loss: 0.0098 - val_loss: 0.0375\n",
      "Epoch 33/100\n",
      "2/2 [==============================] - 0s 32ms/step - loss: 0.0097 - val_loss: 0.0322\n",
      "Epoch 34/100\n",
      "2/2 [==============================] - 0s 34ms/step - loss: 0.0096 - val_loss: 0.0261\n",
      "Epoch 35/100\n",
      "2/2 [==============================] - 0s 34ms/step - loss: 0.0096 - val_loss: 0.0213\n",
      "Epoch 36/100\n",
      "2/2 [==============================] - 0s 32ms/step - loss: 0.0095 - val_loss: 0.0193\n",
      "Epoch 37/100\n",
      "2/2 [==============================] - 0s 32ms/step - loss: 0.0095 - val_loss: 0.0187\n",
      "Epoch 38/100\n",
      "2/2 [==============================] - 0s 32ms/step - loss: 0.0094 - val_loss: 0.0201\n",
      "Epoch 39/100\n",
      "2/2 [==============================] - 0s 33ms/step - loss: 0.0094 - val_loss: 0.0204\n",
      "Epoch 40/100\n",
      "2/2 [==============================] - 0s 31ms/step - loss: 0.0094 - val_loss: 0.0182\n",
      "Epoch 41/100\n",
      "2/2 [==============================] - 0s 34ms/step - loss: 0.0094 - val_loss: 0.0144\n",
      "Epoch 42/100\n",
      "2/2 [==============================] - 0s 33ms/step - loss: 0.0093 - val_loss: 0.0122\n",
      "Epoch 43/100\n",
      "2/2 [==============================] - 0s 35ms/step - loss: 0.0094 - val_loss: 0.0104\n",
      "Epoch 44/100\n",
      "2/2 [==============================] - 0s 32ms/step - loss: 0.0093 - val_loss: 0.0109\n",
      "Epoch 45/100\n",
      "2/2 [==============================] - 0s 31ms/step - loss: 0.0093 - val_loss: 0.0123\n",
      "Epoch 46/100\n",
      "2/2 [==============================] - 0s 33ms/step - loss: 0.0093 - val_loss: 0.0147\n",
      "Epoch 47/100\n",
      "2/2 [==============================] - 0s 31ms/step - loss: 0.0094 - val_loss: 0.0147\n",
      "Epoch 48/100\n",
      "2/2 [==============================] - 0s 33ms/step - loss: 0.0094 - val_loss: 0.0126\n",
      "Epoch 49/100\n",
      "2/2 [==============================] - 0s 35ms/step - loss: 0.0093 - val_loss: 0.0109\n",
      "Epoch 50/100\n",
      "2/2 [==============================] - 0s 29ms/step - loss: 0.0093 - val_loss: 0.0095\n",
      "Epoch 51/100\n",
      "2/2 [==============================] - 0s 28ms/step - loss: 0.0093 - val_loss: 0.0089\n",
      "Epoch 52/100\n",
      "2/2 [==============================] - 0s 29ms/step - loss: 0.0093 - val_loss: 0.0098\n",
      "Epoch 53/100\n",
      "2/2 [==============================] - 0s 31ms/step - loss: 0.0093 - val_loss: 0.0109\n",
      "Epoch 54/100\n",
      "2/2 [==============================] - 0s 29ms/step - loss: 0.0092 - val_loss: 0.0107\n",
      "Epoch 55/100\n",
      "2/2 [==============================] - 0s 32ms/step - loss: 0.0093 - val_loss: 0.0111\n",
      "Epoch 56/100\n",
      "2/2 [==============================] - 0s 32ms/step - loss: 0.0093 - val_loss: 0.0102\n",
      "Epoch 57/100\n",
      "2/2 [==============================] - ETA: 0s - loss: 0.009 - 0s 30ms/step - loss: 0.0093 - val_loss: 0.0106\n",
      "Epoch 58/100\n",
      "2/2 [==============================] - 0s 30ms/step - loss: 0.0092 - val_loss: 0.0126\n",
      "Epoch 59/100\n",
      "2/2 [==============================] - 0s 30ms/step - loss: 0.0092 - val_loss: 0.0150\n",
      "Epoch 60/100\n",
      "2/2 [==============================] - 0s 30ms/step - loss: 0.0093 - val_loss: 0.0147\n",
      "Epoch 61/100\n",
      "2/2 [==============================] - 0s 30ms/step - loss: 0.0093 - val_loss: 0.0124\n",
      "Epoch 62/100\n",
      "2/2 [==============================] - 0s 32ms/step - loss: 0.0092 - val_loss: 0.0102\n",
      "Epoch 63/100\n",
      "2/2 [==============================] - 0s 31ms/step - loss: 0.0093 - val_loss: 0.0094\n",
      "Epoch 64/100\n",
      "2/2 [==============================] - 0s 31ms/step - loss: 0.0092 - val_loss: 0.0120\n",
      "Epoch 65/100\n",
      "2/2 [==============================] - 0s 30ms/step - loss: 0.0092 - val_loss: 0.0145\n",
      "Epoch 66/100\n",
      "2/2 [==============================] - 0s 29ms/step - loss: 0.0092 - val_loss: 0.0139\n",
      "Epoch 67/100\n",
      "2/2 [==============================] - 0s 30ms/step - loss: 0.0093 - val_loss: 0.0124\n",
      "Epoch 68/100\n",
      "2/2 [==============================] - 0s 35ms/step - loss: 0.0092 - val_loss: 0.0115\n",
      "Epoch 69/100\n",
      "2/2 [==============================] - 0s 33ms/step - loss: 0.0092 - val_loss: 0.0108\n",
      "Epoch 70/100\n",
      "2/2 [==============================] - 0s 28ms/step - loss: 0.0092 - val_loss: 0.0103\n",
      "Epoch 71/100\n",
      "2/2 [==============================] - 0s 31ms/step - loss: 0.0092 - val_loss: 0.0107\n",
      "Epoch 72/100\n",
      "2/2 [==============================] - 0s 29ms/step - loss: 0.0093 - val_loss: 0.0116\n",
      "Epoch 73/100\n",
      "2/2 [==============================] - 0s 30ms/step - loss: 0.0092 - val_loss: 0.0099\n"
     ]
    },
    {
     "name": "stdout",
     "output_type": "stream",
     "text": [
      "Epoch 74/100\n",
      "2/2 [==============================] - 0s 33ms/step - loss: 0.0091 - val_loss: 0.0082\n",
      "Epoch 75/100\n",
      "2/2 [==============================] - 0s 33ms/step - loss: 0.0092 - val_loss: 0.0080\n",
      "Epoch 76/100\n",
      "2/2 [==============================] - 0s 30ms/step - loss: 0.0092 - val_loss: 0.0093\n",
      "Epoch 77/100\n",
      "2/2 [==============================] - 0s 29ms/step - loss: 0.0091 - val_loss: 0.0119\n",
      "Epoch 78/100\n",
      "2/2 [==============================] - 0s 29ms/step - loss: 0.0091 - val_loss: 0.0146\n",
      "Epoch 79/100\n",
      "2/2 [==============================] - 0s 33ms/step - loss: 0.0092 - val_loss: 0.0145\n",
      "Epoch 80/100\n",
      "2/2 [==============================] - 0s 31ms/step - loss: 0.0092 - val_loss: 0.0130\n",
      "Epoch 81/100\n",
      "2/2 [==============================] - 0s 31ms/step - loss: 0.0091 - val_loss: 0.0106\n",
      "Epoch 82/100\n",
      "2/2 [==============================] - 0s 30ms/step - loss: 0.0091 - val_loss: 0.0095\n",
      "Epoch 83/100\n",
      "2/2 [==============================] - 0s 32ms/step - loss: 0.0092 - val_loss: 0.0104\n",
      "Epoch 84/100\n",
      "2/2 [==============================] - 0s 29ms/step - loss: 0.0091 - val_loss: 0.0110\n",
      "Epoch 85/100\n",
      "2/2 [==============================] - 0s 28ms/step - loss: 0.0091 - val_loss: 0.0134\n",
      "Epoch 86/100\n",
      "2/2 [==============================] - 0s 59ms/step - loss: 0.0091 - val_loss: 0.0156\n",
      "Epoch 87/100\n",
      "2/2 [==============================] - 0s 42ms/step - loss: 0.0091 - val_loss: 0.0149\n",
      "Epoch 88/100\n",
      "2/2 [==============================] - 0s 37ms/step - loss: 0.0091 - val_loss: 0.0133\n",
      "Epoch 89/100\n",
      "2/2 [==============================] - 0s 36ms/step - loss: 0.0090 - val_loss: 0.0104\n",
      "Epoch 90/100\n",
      "2/2 [==============================] - 0s 32ms/step - loss: 0.0091 - val_loss: 0.0094\n",
      "Epoch 91/100\n",
      "2/2 [==============================] - 0s 35ms/step - loss: 0.0091 - val_loss: 0.0108\n",
      "Epoch 92/100\n",
      "2/2 [==============================] - 0s 33ms/step - loss: 0.0090 - val_loss: 0.0123\n",
      "Epoch 93/100\n",
      "2/2 [==============================] - 0s 35ms/step - loss: 0.0091 - val_loss: 0.0135\n",
      "Epoch 94/100\n",
      "2/2 [==============================] - 0s 31ms/step - loss: 0.0090 - val_loss: 0.0113\n",
      "Epoch 95/100\n",
      "2/2 [==============================] - 0s 29ms/step - loss: 0.0090 - val_loss: 0.0095\n",
      "Epoch 96/100\n",
      "2/2 [==============================] - 0s 52ms/step - loss: 0.0091 - val_loss: 0.0099\n",
      "Epoch 97/100\n",
      "2/2 [==============================] - 0s 36ms/step - loss: 0.0090 - val_loss: 0.0101\n",
      "Epoch 98/100\n",
      "2/2 [==============================] - 0s 44ms/step - loss: 0.0090 - val_loss: 0.0104\n",
      "Epoch 99/100\n",
      "2/2 [==============================] - 0s 36ms/step - loss: 0.0090 - val_loss: 0.0114\n",
      "Epoch 100/100\n",
      "2/2 [==============================] - 0s 37ms/step - loss: 0.0090 - val_loss: 0.0116\n"
     ]
    },
    {
     "data": {
      "text/plain": [
       "<keras.callbacks.History at 0x196ebf3fc08>"
      ]
     },
     "execution_count": 22,
     "metadata": {},
     "output_type": "execute_result"
    }
   ],
   "source": [
    "model.fit(X_train, y_train, validation_data=(X_test, y_test), epochs= 100, batch_size=64, verbose=1)"
   ]
  },
  {
   "cell_type": "code",
   "execution_count": 23,
   "metadata": {},
   "outputs": [],
   "source": [
    "from keras.models import load_model\n",
    "model.save_weights('my_model1.weights.h5')\n",
    "model.save('my_model1.h5')\n",
    "#model= load_model('my_model1.h5')\n",
    "#model.load_weights('my_model1.h5')"
   ]
  },
  {
   "cell_type": "code",
   "execution_count": 24,
   "metadata": {},
   "outputs": [
    {
     "name": "stdout",
     "output_type": "stream",
     "text": [
      "WARNING:tensorflow:Model was constructed with shape (None, 100, 1) for input KerasTensor(type_spec=TensorSpec(shape=(None, 100, 1), dtype=tf.float32, name='lstm_input'), name='lstm_input', description=\"created by layer 'lstm_input'\"), but it was called on an input with incompatible shape (None, 10, 1).\n"
     ]
    },
    {
     "data": {
      "text/plain": [
       "array([[0.21748412],\n",
       "       [0.21890907],\n",
       "       [0.22140941],\n",
       "       [0.21943735],\n",
       "       [0.21663266],\n",
       "       [0.21553963],\n",
       "       [0.21261652],\n",
       "       [0.22049074],\n",
       "       [0.2305191 ],\n",
       "       [0.22114356],\n",
       "       [0.2273374 ],\n",
       "       [0.24247089],\n",
       "       [0.25223443],\n",
       "       [0.25695553],\n",
       "       [0.25300515],\n",
       "       [0.24551128],\n",
       "       [0.22763707],\n",
       "       [0.20492728],\n",
       "       [0.1942548 ],\n",
       "       [0.19126536],\n",
       "       [0.17362678],\n",
       "       [0.14895414],\n",
       "       [0.14592749],\n",
       "       [0.14092143],\n",
       "       [0.14504035],\n",
       "       [0.14831889],\n",
       "       [0.1472727 ],\n",
       "       [0.15067339],\n",
       "       [0.15545674],\n",
       "       [0.17272787],\n",
       "       [0.18335183],\n",
       "       [0.19715182],\n",
       "       [0.20735495],\n",
       "       [0.22683543],\n",
       "       [0.2333368 ],\n",
       "       [0.22776029],\n",
       "       [0.22903171],\n",
       "       [0.23441134],\n",
       "       [0.2454431 ],\n",
       "       [0.24682865],\n",
       "       [0.25545684],\n",
       "       [0.265025  ],\n",
       "       [0.2692052 ],\n",
       "       [0.28505927],\n",
       "       [0.29344806],\n",
       "       [0.30657816],\n",
       "       [0.31197524],\n",
       "       [0.31366336],\n",
       "       [0.31422865],\n",
       "       [0.32626313],\n",
       "       [0.33756387],\n",
       "       [0.34529796],\n",
       "       [0.35762182],\n",
       "       [0.3779503 ],\n",
       "       [0.40501362],\n",
       "       [0.42511275],\n",
       "       [0.4462003 ],\n",
       "       [0.46112525],\n",
       "       [0.46531856],\n",
       "       [0.4638776 ],\n",
       "       [0.45993814],\n",
       "       [0.44139034],\n",
       "       [0.41136914],\n",
       "       [0.40050575],\n",
       "       [0.38348973],\n",
       "       [0.36561823],\n",
       "       [0.35012168],\n",
       "       [0.34615964],\n",
       "       [0.33923632],\n",
       "       [0.34022596],\n",
       "       [0.34205514],\n",
       "       [0.35010558],\n",
       "       [0.34408474],\n",
       "       [0.34715775],\n",
       "       [0.34943902],\n",
       "       [0.3566979 ],\n",
       "       [0.36505824],\n",
       "       [0.37309384],\n",
       "       [0.37077877],\n",
       "       [0.36787593],\n",
       "       [0.37033907],\n",
       "       [0.3695302 ],\n",
       "       [0.37074617],\n",
       "       [0.36563167],\n",
       "       [0.3575898 ],\n",
       "       [0.37161818],\n",
       "       [0.36792743],\n",
       "       [0.3643454 ],\n",
       "       [0.35131276],\n",
       "       [0.34650835],\n",
       "       [0.34661567],\n",
       "       [0.3574711 ],\n",
       "       [0.37446272],\n",
       "       [0.3849276 ],\n",
       "       [0.39890823],\n",
       "       [0.41919097],\n",
       "       [0.43933266],\n",
       "       [0.46060172],\n",
       "       [0.46728015],\n",
       "       [0.4784387 ],\n",
       "       [0.48021376],\n",
       "       [0.4915941 ],\n",
       "       [0.5035679 ]], dtype=float32)"
      ]
     },
     "execution_count": 24,
     "metadata": {},
     "output_type": "execute_result"
    }
   ],
   "source": [
    "#Prediction and performance metrics check\n",
    "train_predict= model.predict(X_train)\n",
    "train_predict"
   ]
  },
  {
   "cell_type": "code",
   "execution_count": 25,
   "metadata": {},
   "outputs": [
    {
     "data": {
      "text/plain": [
       "array([[[0.61146497],\n",
       "        [0.62420382],\n",
       "        [0.47770701],\n",
       "        [0.75159236],\n",
       "        [0.64968153],\n",
       "        [0.56050955],\n",
       "        [0.5477707 ],\n",
       "        [0.67515924],\n",
       "        [0.65605096],\n",
       "        [0.81528662]],\n",
       "\n",
       "       [[0.62420382],\n",
       "        [0.47770701],\n",
       "        [0.75159236],\n",
       "        [0.64968153],\n",
       "        [0.56050955],\n",
       "        [0.5477707 ],\n",
       "        [0.67515924],\n",
       "        [0.65605096],\n",
       "        [0.81528662],\n",
       "        [0.72611465]],\n",
       "\n",
       "       [[0.47770701],\n",
       "        [0.75159236],\n",
       "        [0.64968153],\n",
       "        [0.56050955],\n",
       "        [0.5477707 ],\n",
       "        [0.67515924],\n",
       "        [0.65605096],\n",
       "        [0.81528662],\n",
       "        [0.72611465],\n",
       "        [0.77707006]],\n",
       "\n",
       "       [[0.75159236],\n",
       "        [0.64968153],\n",
       "        [0.56050955],\n",
       "        [0.5477707 ],\n",
       "        [0.67515924],\n",
       "        [0.65605096],\n",
       "        [0.81528662],\n",
       "        [0.72611465],\n",
       "        [0.77707006],\n",
       "        [0.77707006]],\n",
       "\n",
       "       [[0.64968153],\n",
       "        [0.56050955],\n",
       "        [0.5477707 ],\n",
       "        [0.67515924],\n",
       "        [0.65605096],\n",
       "        [0.81528662],\n",
       "        [0.72611465],\n",
       "        [0.77707006],\n",
       "        [0.77707006],\n",
       "        [0.70063694]],\n",
       "\n",
       "       [[0.56050955],\n",
       "        [0.5477707 ],\n",
       "        [0.67515924],\n",
       "        [0.65605096],\n",
       "        [0.81528662],\n",
       "        [0.72611465],\n",
       "        [0.77707006],\n",
       "        [0.77707006],\n",
       "        [0.70063694],\n",
       "        [0.77070064]],\n",
       "\n",
       "       [[0.5477707 ],\n",
       "        [0.67515924],\n",
       "        [0.65605096],\n",
       "        [0.81528662],\n",
       "        [0.72611465],\n",
       "        [0.77707006],\n",
       "        [0.77707006],\n",
       "        [0.70063694],\n",
       "        [0.77070064],\n",
       "        [0.75159236]],\n",
       "\n",
       "       [[0.67515924],\n",
       "        [0.65605096],\n",
       "        [0.81528662],\n",
       "        [0.72611465],\n",
       "        [0.77707006],\n",
       "        [0.77707006],\n",
       "        [0.70063694],\n",
       "        [0.77070064],\n",
       "        [0.75159236],\n",
       "        [0.74522293]],\n",
       "\n",
       "       [[0.65605096],\n",
       "        [0.81528662],\n",
       "        [0.72611465],\n",
       "        [0.77707006],\n",
       "        [0.77707006],\n",
       "        [0.70063694],\n",
       "        [0.77070064],\n",
       "        [0.75159236],\n",
       "        [0.74522293],\n",
       "        [0.73248408]],\n",
       "\n",
       "       [[0.81528662],\n",
       "        [0.72611465],\n",
       "        [0.77707006],\n",
       "        [0.77707006],\n",
       "        [0.70063694],\n",
       "        [0.77070064],\n",
       "        [0.75159236],\n",
       "        [0.74522293],\n",
       "        [0.73248408],\n",
       "        [0.78980892]],\n",
       "\n",
       "       [[0.72611465],\n",
       "        [0.77707006],\n",
       "        [0.77707006],\n",
       "        [0.70063694],\n",
       "        [0.77070064],\n",
       "        [0.75159236],\n",
       "        [0.74522293],\n",
       "        [0.73248408],\n",
       "        [0.78980892],\n",
       "        [0.76433121]],\n",
       "\n",
       "       [[0.77707006],\n",
       "        [0.77707006],\n",
       "        [0.70063694],\n",
       "        [0.77070064],\n",
       "        [0.75159236],\n",
       "        [0.74522293],\n",
       "        [0.73248408],\n",
       "        [0.78980892],\n",
       "        [0.76433121],\n",
       "        [0.82802548]],\n",
       "\n",
       "       [[0.77707006],\n",
       "        [0.70063694],\n",
       "        [0.77070064],\n",
       "        [0.75159236],\n",
       "        [0.74522293],\n",
       "        [0.73248408],\n",
       "        [0.78980892],\n",
       "        [0.76433121],\n",
       "        [0.82802548],\n",
       "        [1.        ]],\n",
       "\n",
       "       [[0.70063694],\n",
       "        [0.77070064],\n",
       "        [0.75159236],\n",
       "        [0.74522293],\n",
       "        [0.73248408],\n",
       "        [0.78980892],\n",
       "        [0.76433121],\n",
       "        [0.82802548],\n",
       "        [1.        ],\n",
       "        [0.84713376]],\n",
       "\n",
       "       [[0.77070064],\n",
       "        [0.75159236],\n",
       "        [0.74522293],\n",
       "        [0.73248408],\n",
       "        [0.78980892],\n",
       "        [0.76433121],\n",
       "        [0.82802548],\n",
       "        [1.        ],\n",
       "        [0.84713376],\n",
       "        [0.85987261]],\n",
       "\n",
       "       [[0.75159236],\n",
       "        [0.74522293],\n",
       "        [0.73248408],\n",
       "        [0.78980892],\n",
       "        [0.76433121],\n",
       "        [0.82802548],\n",
       "        [1.        ],\n",
       "        [0.84713376],\n",
       "        [0.85987261],\n",
       "        [0.92993631]],\n",
       "\n",
       "       [[0.74522293],\n",
       "        [0.73248408],\n",
       "        [0.78980892],\n",
       "        [0.76433121],\n",
       "        [0.82802548],\n",
       "        [1.        ],\n",
       "        [0.84713376],\n",
       "        [0.85987261],\n",
       "        [0.92993631],\n",
       "        [0.94267516]],\n",
       "\n",
       "       [[0.73248408],\n",
       "        [0.78980892],\n",
       "        [0.76433121],\n",
       "        [0.82802548],\n",
       "        [1.        ],\n",
       "        [0.84713376],\n",
       "        [0.85987261],\n",
       "        [0.92993631],\n",
       "        [0.94267516],\n",
       "        [0.86624204]]])"
      ]
     },
     "execution_count": 25,
     "metadata": {},
     "output_type": "execute_result"
    }
   ],
   "source": [
    "X_test"
   ]
  },
  {
   "cell_type": "code",
   "execution_count": 26,
   "metadata": {},
   "outputs": [
    {
     "data": {
      "text/plain": [
       "array([[0.6162886 ],\n",
       "       [0.62822974],\n",
       "       [0.64309675],\n",
       "       [0.6712202 ],\n",
       "       [0.6769553 ],\n",
       "       [0.6915517 ],\n",
       "       [0.71163625],\n",
       "       [0.7299245 ],\n",
       "       [0.7359374 ],\n",
       "       [0.74344575],\n",
       "       [0.7392901 ],\n",
       "       [0.74459714],\n",
       "       [0.75385267],\n",
       "       [0.76605535],\n",
       "       [0.7850302 ],\n",
       "       [0.8005911 ],\n",
       "       [0.8193911 ],\n",
       "       [0.8368907 ]], dtype=float32)"
      ]
     },
     "execution_count": 26,
     "metadata": {},
     "output_type": "execute_result"
    }
   ],
   "source": [
    "test_predict= model.predict(X_test)\n",
    "test_predict"
   ]
  },
  {
   "cell_type": "code",
   "execution_count": 27,
   "metadata": {},
   "outputs": [
    {
     "data": {
      "text/plain": [
       "array([[11.372013 ],\n",
       "       [11.39076  ],\n",
       "       [11.414103 ],\n",
       "       [11.458256 ],\n",
       "       [11.467259 ],\n",
       "       [11.490176 ],\n",
       "       [11.5217085],\n",
       "       [11.550422 ],\n",
       "       [11.559862 ],\n",
       "       [11.57165  ],\n",
       "       [11.565125 ],\n",
       "       [11.573457 ],\n",
       "       [11.587989 ],\n",
       "       [11.607147 ],\n",
       "       [11.636937 ],\n",
       "       [11.661367 ],\n",
       "       [11.690885 ],\n",
       "       [11.718358 ]], dtype=float32)"
      ]
     },
     "execution_count": 27,
     "metadata": {},
     "output_type": "execute_result"
    }
   ],
   "source": [
    "train_predict=scaler.inverse_transform(train_predict)\n",
    "test_predict=scaler.inverse_transform(test_predict)\n",
    "test_predict"
   ]
  },
  {
   "cell_type": "code",
   "execution_count": 28,
   "metadata": {},
   "outputs": [
    {
     "data": {
      "text/plain": [
       "111.92802574762804"
      ]
     },
     "execution_count": 28,
     "metadata": {},
     "output_type": "execute_result"
    }
   ],
   "source": [
    "from sklearn.metrics import mean_squared_error\n",
    "LSTM_mSe= mean_squared_error(y_train,train_predict)\n",
    "LSTM_mSe"
   ]
  },
  {
   "cell_type": "code",
   "execution_count": 29,
   "metadata": {},
   "outputs": [
    {
     "data": {
      "text/plain": [
       "10.579604233979078"
      ]
     },
     "execution_count": 29,
     "metadata": {},
     "output_type": "execute_result"
    }
   ],
   "source": [
    "LSTM_rmSe= np.sqrt(mean_squared_error(y_train,train_predict))\n",
    "LSTM_rmSe"
   ]
  },
  {
   "cell_type": "code",
   "execution_count": 30,
   "metadata": {},
   "outputs": [
    {
     "data": {
      "text/plain": [
       "10.579052086612462"
      ]
     },
     "execution_count": 30,
     "metadata": {},
     "output_type": "execute_result"
    }
   ],
   "source": [
    "from sklearn.metrics import mean_absolute_error\n",
    "LSTM_mAe= mean_absolute_error(y_train,train_predict)\n",
    "LSTM_mAe"
   ]
  },
  {
   "cell_type": "code",
   "execution_count": 31,
   "metadata": {},
   "outputs": [
    {
     "data": {
      "text/plain": [
       "3.2525454780237064"
      ]
     },
     "execution_count": 31,
     "metadata": {},
     "output_type": "execute_result"
    }
   ],
   "source": [
    "LSTM_rmAe= np.sqrt(mean_absolute_error(y_train,train_predict))\n",
    "LSTM_rmAe"
   ]
  },
  {
   "cell_type": "code",
   "execution_count": 32,
   "metadata": {},
   "outputs": [
    {
     "name": "stdout",
     "output_type": "stream",
     "text": [
      "LSTM Mean Squared Error: 111.928\n",
      "LSTM Mean Absolute Error: 10.579\n",
      "LSTM Root Mean Squared Error: 10.580\n",
      "LSTM Root Mean Absolute Error: 3.253\n"
     ]
    }
   ],
   "source": [
    "print('LSTM Mean Squared Error: %.3f' % LSTM_mSe)\n",
    "print('LSTM Mean Absolute Error: %.3f' % LSTM_mAe)\n",
    "print('LSTM Root Mean Squared Error: %.3f' % LSTM_rmSe)\n",
    "print('LSTM Root Mean Absolute Error: %.3f' % LSTM_rmAe)"
   ]
  },
  {
   "cell_type": "code",
   "execution_count": null,
   "metadata": {},
   "outputs": [],
   "source": []
  }
 ],
 "metadata": {
  "kernelspec": {
   "display_name": "Python 3",
   "language": "python",
   "name": "python3"
  },
  "language_info": {
   "codemirror_mode": {
    "name": "ipython",
    "version": 3
   },
   "file_extension": ".py",
   "mimetype": "text/x-python",
   "name": "python",
   "nbconvert_exporter": "python",
   "pygments_lexer": "ipython3",
   "version": "3.7.6"
  }
 },
 "nbformat": 4,
 "nbformat_minor": 4
}
